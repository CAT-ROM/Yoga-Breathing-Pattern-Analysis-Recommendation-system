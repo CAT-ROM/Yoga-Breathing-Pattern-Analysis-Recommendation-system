{
 "cells": [
  {
   "cell_type": "markdown",
   "id": "65ee7771",
   "metadata": {
    "papermill": {
     "duration": 0.003088,
     "end_time": "2024-12-11T08:26:54.420864",
     "exception": false,
     "start_time": "2024-12-11T08:26:54.417776",
     "status": "completed"
    },
    "tags": []
   },
   "source": [
    "This system uses machine learning to analyze a user’s breathing patterns (rate, depth, rhythm, and duration) during different yoga practices. A **Random Forest** model is trained on synthetic data to classify the most suitable practice (Pranayama, Meditation, Hatha Yoga, Vinyasa, or Restorative). Users can input their breathing data, and the system recommends the most appropriate yoga practice to improve their breathing technique.\r\n"
   ]
  },
  {
   "cell_type": "code",
   "execution_count": 1,
   "id": "50e9da9f",
   "metadata": {
    "execution": {
     "iopub.execute_input": "2024-12-11T08:26:54.427915Z",
     "iopub.status.busy": "2024-12-11T08:26:54.427276Z",
     "iopub.status.idle": "2024-12-11T08:27:07.025155Z",
     "shell.execute_reply": "2024-12-11T08:27:07.023791Z"
    },
    "papermill": {
     "duration": 12.605353,
     "end_time": "2024-12-11T08:27:07.028653",
     "exception": false,
     "start_time": "2024-12-11T08:26:54.423300",
     "status": "completed"
    },
    "tags": []
   },
   "outputs": [
    {
     "name": "stdout",
     "output_type": "stream",
     "text": [
      "Requirement already satisfied: numpy in /opt/conda/lib/python3.10/site-packages (1.26.4)\r\n",
      "Requirement already satisfied: pandas in /opt/conda/lib/python3.10/site-packages (2.2.3)\r\n",
      "Requirement already satisfied: scikit-learn in /opt/conda/lib/python3.10/site-packages (1.2.2)\r\n",
      "Requirement already satisfied: matplotlib in /opt/conda/lib/python3.10/site-packages (3.7.5)\r\n",
      "Requirement already satisfied: python-dateutil>=2.8.2 in /opt/conda/lib/python3.10/site-packages (from pandas) (2.9.0.post0)\r\n",
      "Requirement already satisfied: pytz>=2020.1 in /opt/conda/lib/python3.10/site-packages (from pandas) (2024.1)\r\n",
      "Requirement already satisfied: tzdata>=2022.7 in /opt/conda/lib/python3.10/site-packages (from pandas) (2024.1)\r\n",
      "Requirement already satisfied: scipy>=1.3.2 in /opt/conda/lib/python3.10/site-packages (from scikit-learn) (1.14.1)\r\n",
      "Requirement already satisfied: joblib>=1.1.1 in /opt/conda/lib/python3.10/site-packages (from scikit-learn) (1.4.2)\r\n",
      "Requirement already satisfied: threadpoolctl>=2.0.0 in /opt/conda/lib/python3.10/site-packages (from scikit-learn) (3.5.0)\r\n",
      "Requirement already satisfied: contourpy>=1.0.1 in /opt/conda/lib/python3.10/site-packages (from matplotlib) (1.2.1)\r\n",
      "Requirement already satisfied: cycler>=0.10 in /opt/conda/lib/python3.10/site-packages (from matplotlib) (0.12.1)\r\n",
      "Requirement already satisfied: fonttools>=4.22.0 in /opt/conda/lib/python3.10/site-packages (from matplotlib) (4.53.0)\r\n",
      "Requirement already satisfied: kiwisolver>=1.0.1 in /opt/conda/lib/python3.10/site-packages (from matplotlib) (1.4.5)\r\n",
      "Requirement already satisfied: packaging>=20.0 in /opt/conda/lib/python3.10/site-packages (from matplotlib) (21.3)\r\n",
      "Requirement already satisfied: pillow>=6.2.0 in /opt/conda/lib/python3.10/site-packages (from matplotlib) (10.3.0)\r\n",
      "Requirement already satisfied: pyparsing>=2.3.1 in /opt/conda/lib/python3.10/site-packages (from matplotlib) (3.1.2)\r\n",
      "Requirement already satisfied: six>=1.5 in /opt/conda/lib/python3.10/site-packages (from python-dateutil>=2.8.2->pandas) (1.16.0)\r\n",
      "Note: you may need to restart the kernel to use updated packages.\n"
     ]
    }
   ],
   "source": [
    "pip install numpy pandas scikit-learn matplotlib"
   ]
  },
  {
   "cell_type": "code",
   "execution_count": 2,
   "id": "a5732560",
   "metadata": {
    "execution": {
     "iopub.execute_input": "2024-12-11T08:27:07.036276Z",
     "iopub.status.busy": "2024-12-11T08:27:07.035895Z",
     "iopub.status.idle": "2024-12-11T08:27:10.696207Z",
     "shell.execute_reply": "2024-12-11T08:27:10.694481Z"
    },
    "papermill": {
     "duration": 3.667565,
     "end_time": "2024-12-11T08:27:10.698901",
     "exception": false,
     "start_time": "2024-12-11T08:27:07.031336",
     "status": "completed"
    },
    "tags": []
   },
   "outputs": [
    {
     "name": "stdout",
     "output_type": "stream",
     "text": [
      "Yoga Breathing Pattern Analyzer\n",
      "\n",
      "Analyzing breathing rate: 6 breaths/min\n",
      "Recommended Yoga Asana: Pranayama\n",
      "Recommendation Details: Focus on deep, controlled breathing. Practice Ujjayi Pranayama.\n",
      "\n",
      "Analyzing breathing rate: 12 breaths/min\n",
      "Recommended Yoga Asana: Vinyasa Flow\n",
      "Recommendation Details: Synchronize breath with dynamic movements. Do flow sequences.\n",
      "\n",
      "Analyzing breathing rate: 16 breaths/min\n",
      "Recommended Yoga Asana: Ashtanga Yoga\n",
      "Recommendation Details: Structured sequence with breath-movement sync. Follow primary series.\n",
      "\n",
      "Analyzing breathing rate: 20 breaths/min\n",
      "Recommended Yoga Asana: Power Yoga\n",
      "Recommendation Details: Intense practice with strong breath connection. Practice challenging asanas.\n"
     ]
    }
   ],
   "source": [
    "import numpy as np\n",
    "import pandas as pd\n",
    "from sklearn.preprocessing import StandardScaler\n",
    "from sklearn.ensemble import RandomForestClassifier\n",
    "\n",
    "class YogaBreathAnalyzer:\n",
    "    def __init__(self):\n",
    "        self.model = None\n",
    "        self.scaler = None\n",
    "        self.breathing_data = None\n",
    "\n",
    "    def generate_dataset(self):\n",
    "        \"\"\"Generate synthetic breathing dataset\"\"\"\n",
    "        np.random.seed(42)\n",
    "        \n",
    "        # Create dataset with breathing rate and corresponding yoga asanas\n",
    "        data = [\n",
    "            [6, 'Pranayama'],\n",
    "            [8, 'Meditation'],\n",
    "            [10, 'Hatha Yoga'],\n",
    "            [12, 'Vinyasa Flow'],\n",
    "            [14, 'Power Yoga'],\n",
    "            [16, 'Ashtanga Yoga'],\n",
    "            [18, 'Dynamic Yoga'],\n",
    "            [20, 'Power Yoga']\n",
    "        ]\n",
    "        \n",
    "        columns = ['Breathing_Rate', 'Yoga_Asana']\n",
    "        self.breathing_data = pd.DataFrame(data, columns=columns)\n",
    "        return self.breathing_data\n",
    "\n",
    "    def train_model(self):\n",
    "        \"\"\"Train a simple machine learning model\"\"\"\n",
    "        # Generate dataset if not exists\n",
    "        if self.breathing_data is None:\n",
    "            self.generate_dataset()\n",
    "        \n",
    "        # Prepare data\n",
    "        X = self.breathing_data[['Breathing_Rate']].values\n",
    "        y = self.breathing_data['Yoga_Asana']\n",
    "        \n",
    "        # Scale features\n",
    "        self.scaler = StandardScaler()\n",
    "        X_scaled = self.scaler.fit_transform(X)\n",
    "        \n",
    "        # Train Random Forest Classifier\n",
    "        self.model = RandomForestClassifier(n_estimators=100, random_state=42)\n",
    "        self.model.fit(X_scaled, y)\n",
    "        \n",
    "        return self.model\n",
    "\n",
    "    def recommend_yoga_asana(self, breathing_rate):\n",
    "        \"\"\"Recommend yoga asana based on breathing rate\"\"\"\n",
    "        # Ensure model is trained\n",
    "        if self.model is None or self.scaler is None:\n",
    "            self.train_model()\n",
    "        \n",
    "        # Scale input\n",
    "        scaled_rate = self.scaler.transform([[breathing_rate]])\n",
    "        \n",
    "        # Predict yoga asana\n",
    "        prediction = self.model.predict(scaled_rate)[0]\n",
    "        \n",
    "        # Yoga asana recommendations\n",
    "        asana_details = {\n",
    "            'Pranayama': \"Focus on deep, controlled breathing. Practice Ujjayi Pranayama.\",\n",
    "            'Meditation': \"Emphasize mindful breathing. Try seated meditation poses.\",\n",
    "            'Hatha Yoga': \"Integrate gentle movements with breath. Practice Surya Namaskar.\",\n",
    "            'Vinyasa Flow': \"Synchronize breath with dynamic movements. Do flow sequences.\",\n",
    "            'Power Yoga': \"Intense practice with strong breath connection. Practice challenging asanas.\",\n",
    "            'Ashtanga Yoga': \"Structured sequence with breath-movement sync. Follow primary series.\",\n",
    "            'Dynamic Yoga': \"Energetic practice with continuous movement. Try power vinyasa.\"\n",
    "        }\n",
    "        \n",
    "        return {\n",
    "            'asana': prediction,\n",
    "            'details': asana_details.get(prediction, 'General yoga practice')\n",
    "        }\n",
    "\n",
    "def analyze_breathing_rate(breathing_rate):\n",
    "    \"\"\"Function to analyze breathing rate and provide recommendation\"\"\"\n",
    "    # Create analyzer instance\n",
    "    analyzer = YogaBreathAnalyzer()\n",
    "    \n",
    "    # Train the model\n",
    "    analyzer.train_model()\n",
    "    \n",
    "    # Get recommendation\n",
    "    result = analyzer.recommend_yoga_asana(breathing_rate)\n",
    "    \n",
    "    # Print and return results\n",
    "    print(f\"Recommended Yoga Asana: {result['asana']}\")\n",
    "    print(f\"Recommendation Details: {result['details']}\")\n",
    "    \n",
    "    return result\n",
    "\n",
    "# Demonstration of usage\n",
    "def main():\n",
    "    print(\"Yoga Breathing Pattern Analyzer\")\n",
    "    \n",
    "    # Example breathing rates to test\n",
    "    test_rates = [6, 12, 16, 20]\n",
    "    \n",
    "    for rate in test_rates:\n",
    "        print(f\"\\nAnalyzing breathing rate: {rate} breaths/min\")\n",
    "        analyze_breathing_rate(rate)\n",
    "\n",
    "# Kaggle-specific execution\n",
    "if 'get_ipython' in globals():\n",
    "    # If running in Jupyter/Kaggle\n",
    "    main()\n",
    "else:\n",
    "    # If running as a script\n",
    "    if __name__ == \"__main__\":\n",
    "        main()"
   ]
  },
  {
   "cell_type": "code",
   "execution_count": 3,
   "id": "bd08b516",
   "metadata": {
    "execution": {
     "iopub.execute_input": "2024-12-11T08:27:10.707278Z",
     "iopub.status.busy": "2024-12-11T08:27:10.706629Z",
     "iopub.status.idle": "2024-12-11T08:27:11.379602Z",
     "shell.execute_reply": "2024-12-11T08:27:11.377814Z"
    },
    "papermill": {
     "duration": 0.680349,
     "end_time": "2024-12-11T08:27:11.382261",
     "exception": false,
     "start_time": "2024-12-11T08:27:10.701912",
     "status": "completed"
    },
    "tags": []
   },
   "outputs": [
    {
     "name": "stdout",
     "output_type": "stream",
     "text": [
      "\n",
      "Analyzing breathing rate: 6 breaths/min\n",
      "Recommended Yoga Asana: Pranayama\n",
      "Recommendation Details: Focus on deep, controlled breathing. Practice Ujjayi Pranayama.\n",
      "\n",
      "Analyzing breathing rate: 12 breaths/min\n",
      "Recommended Yoga Asana: Vinyasa Flow\n",
      "Recommendation Details: Synchronize breath with dynamic movements. Do flow sequences.\n",
      "\n",
      "Analyzing breathing rate: 16 breaths/min\n",
      "Recommended Yoga Asana: Ashtanga Yoga\n",
      "Recommendation Details: Structured sequence with breath-movement sync. Follow primary series.\n",
      "\n",
      "Analyzing breathing rate: 20 breaths/min\n",
      "Recommended Yoga Asana: Power Yoga\n",
      "Recommendation Details: Intense practice with strong breath connection. Practice challenging asanas.\n"
     ]
    }
   ],
   "source": [
    "# to see the analysis\n",
    "breathing_rates = [6, 12, 16, 20]\n",
    "\n",
    "for rate in breathing_rates:\n",
    "    print(f\"\\nAnalyzing breathing rate: {rate} breaths/min\")\n",
    "    analyze_breathing_rate(rate)"
   ]
  }
 ],
 "metadata": {
  "kaggle": {
   "accelerator": "none",
   "dataSources": [],
   "dockerImageVersionId": 30804,
   "isGpuEnabled": false,
   "isInternetEnabled": true,
   "language": "python",
   "sourceType": "notebook"
  },
  "kernelspec": {
   "display_name": "Python 3",
   "language": "python",
   "name": "python3"
  },
  "language_info": {
   "codemirror_mode": {
    "name": "ipython",
    "version": 3
   },
   "file_extension": ".py",
   "mimetype": "text/x-python",
   "name": "python",
   "nbconvert_exporter": "python",
   "pygments_lexer": "ipython3",
   "version": "3.10.14"
  },
  "papermill": {
   "default_parameters": {},
   "duration": 20.794338,
   "end_time": "2024-12-11T08:27:12.110368",
   "environment_variables": {},
   "exception": null,
   "input_path": "__notebook__.ipynb",
   "output_path": "__notebook__.ipynb",
   "parameters": {},
   "start_time": "2024-12-11T08:26:51.316030",
   "version": "2.6.0"
  }
 },
 "nbformat": 4,
 "nbformat_minor": 5
}
